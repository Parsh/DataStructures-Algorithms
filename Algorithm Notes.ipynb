{
 "cells": [
  {
   "cell_type": "markdown",
   "metadata": {},
   "source": [
    "# Algorithms\n",
    "Reference Material: [Data Structures and Algorithms](https://www.tutorialspoint.com/data_structures_algorithms)\n",
    "\n",
    "## Introduction to Algorithms\n",
    "\n",
    ">Algorithm is a step-by-step procedure, which defines a set of instructions to be executed in a certain order to get the desired output. Algorithms are generally created independent of underlying languages, i.e. an algorithm can be implemented in more than one programming language.\n",
    "\n",
    "![](./AlgorithmImages/AlgorithmAnalogy.png \"Program vs Algorithm\")\n",
    "Note: For more on models of computation (Random Access Machine and Pointer Machine) refer to the MIT 6.006 digital notes (Lecture 2).\n",
    "\n",
    "**Psuedocode:** Pseudo code is an informal high-level description of the operating principle of an algorithm. It uses the structural conventions of a normal programming language, but is intended for human reading rather than machine reading. As we know that all programming languages share basic code constructs like loops (for, while), flow-control (if-else), etc. These common constructs can be used, in psuedocode, to write an algorithm.\n",
    "\n",
    "**Categories of algorithms:**\n",
    "\n",
    "From the data structure point of view, following are some important categories of algorithms:\n",
    "\n",
    "- **Search** − Algorithm to search an item in a data structure.\n",
    "- **Insert** − Algorithm to insert item in a data structure.\n",
    "- **Update** − Algorithm to update an existing item in a data structure.\n",
    "- **Delete** − Algorithm to delete an existing item from a data structure.\n",
    "- **Sort** − Algorithm to sort items in a certain order.\n",
    "\n",
    "**Characteristics of an Algorithm:**\n",
    "\n",
    "Not all procedures can be called an algorithm. An algorithm should have the following characteristics:\n",
    "\n",
    ">**Unambiguous** − Algorithm should be clear and unambiguous. Each of its steps (or phases), and their inputs/outputs should be clear and must lead to only one meaning.\n",
    "\n",
    ">**Finiteness** − Algorithms must terminate after a finite number of steps, an infinite procedure isn't regarded as an algorithm.\n",
    "\n",
    ">**Feasibility** − Should be feasible with the available resources.\n",
    "\n",
    ">**Independent** − An algorithm should have step-by-step directions, which should be independent of any programming code.\n"
   ]
  },
  {
   "cell_type": "code",
   "execution_count": null,
   "metadata": {
    "collapsed": true
   },
   "outputs": [],
   "source": []
  }
 ],
 "metadata": {
  "kernelspec": {
   "display_name": "Python 3",
   "language": "python",
   "name": "python3"
  },
  "language_info": {
   "codemirror_mode": {
    "name": "ipython",
    "version": 3
   },
   "file_extension": ".py",
   "mimetype": "text/x-python",
   "name": "python",
   "nbconvert_exporter": "python",
   "pygments_lexer": "ipython3",
   "version": "3.6.1"
  }
 },
 "nbformat": 4,
 "nbformat_minor": 2
}
